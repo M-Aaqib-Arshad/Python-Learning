{
 "cells": [
  {
   "cell_type": "code",
   "execution_count": 10,
   "metadata": {},
   "outputs": [
    {
     "name": "stdout",
     "output_type": "stream",
     "text": [
      "Going to sleep... and id = 0 \n",
      "\n",
      "Woke up... and id = 0\n",
      "Going to sleep... and id = 0 \n",
      "\n",
      "Woke up... and id = 0\n",
      "Going to sleep... and id = 0 \n",
      "\n",
      "Woke up... and id = 0\n",
      "Time taken by the process 9.004677772521973\n"
     ]
    }
   ],
   "source": [
    "import threading\n",
    "from time import time, sleep\n",
    "\n",
    "def process_Checking(id):\n",
    "    print(f'Going to sleep... and id = {id} \\n')\n",
    "    sleep(3)\n",
    "    print(f'Woke up... and id = {id}')\n",
    "\n",
    "start_time = time()\n",
    "for i in range(3):\n",
    "    process_Checking(0)\n",
    "end_time = time()\n",
    "\n",
    "total_time_taken_by_process = end_time - start_time\n",
    "\n",
    "print(f\"Time taken by the process {total_time_taken_by_process}\")"
   ]
  },
  {
   "cell_type": "markdown",
   "metadata": {},
   "source": [
    "## Thread "
   ]
  },
  {
   "cell_type": "code",
   "execution_count": 11,
   "metadata": {},
   "outputs": [
    {
     "name": "stdout",
     "output_type": "stream",
     "text": [
      "Going to sleep... and id = 0 \n",
      "\n",
      "Going to sleep... and id = 1 \n",
      "\n",
      "Woke up... and id = 0\n",
      "Woke up... and id = 1\n",
      "Time taken by the process 3.1384379863739014\n"
     ]
    }
   ],
   "source": [
    "start_time = time()\n",
    "\n",
    "t1 = threading.Thread(target=process_Checking,args=[0])\n",
    "t2 = threading.Thread(target=process_Checking,args=[1])\n",
    "t1.start()\n",
    "t2.start()\n",
    "t1.join()\n",
    "t2.join()\n",
    "end_time = time()\n",
    "\n",
    "\n",
    "total_time_taken_by_process = end_time - start_time\n",
    "\n",
    "print(f\"Time taken by the process {total_time_taken_by_process}\")"
   ]
  },
  {
   "cell_type": "markdown",
   "metadata": {},
   "source": [
    "## Multi threading \n",
    "- It is used for run multiple process simultaneously and give output at same time."
   ]
  },
  {
   "cell_type": "code",
   "execution_count": 12,
   "metadata": {},
   "outputs": [
    {
     "name": "stdout",
     "output_type": "stream",
     "text": [
      "Going to sleep... and id = 0 \n",
      "\n",
      "Going to sleep... and id = 1 \n",
      "\n",
      "Going to sleep... and id = 2 \n",
      "\n",
      "Going to sleep... and id = 3 \n",
      "\n",
      "Going to sleep... and id = 4 \n",
      "\n",
      "Going to sleep... and id = 5 \n",
      "\n",
      "Going to sleep... and id = 6 \n",
      "\n",
      "Going to sleep... and id = 7 \n",
      "\n",
      "Going to sleep... and id = 8 \n",
      "\n",
      "Going to sleep... and id = 9 \n",
      "\n",
      "Woke up... and id = 0\n",
      "Woke up... and id = 2\n",
      "Woke up... and id = 1\n",
      "Woke up... and id = 6\n",
      "Woke up... and id = 5\n",
      "Woke up... and id = 4\n",
      "Woke up... and id = 3\n",
      "Woke up... and id = 9\n",
      "Woke up... and id = 8\n",
      "Woke up... and id = 7\n",
      "Time taken by the process 3.0139195919036865\n"
     ]
    }
   ],
   "source": [
    "def process_Checking(id):\n",
    "    print(f'Going to sleep... and id = {id} \\n')\n",
    "    sleep(3)\n",
    "    print(f'Woke up... and id = {id}')\n",
    "\n",
    "start_time = time()\n",
    "threads = [threading.Thread(target=process_Checking,args=[i]) for i in range(10)]\n",
    "for thread in threads:\n",
    "    thread.start()\n",
    "\n",
    "for thread in threads:\n",
    "    thread.join()\n",
    "end_time = time()\n",
    "\n",
    "total_time_taken_by_process = end_time - start_time\n",
    "\n",
    "print(f\"Time taken by the process {total_time_taken_by_process}\")"
   ]
  },
  {
   "cell_type": "markdown",
   "metadata": {},
   "source": [
    "### Drawbacks\n",
    "- it doesn't run sequencially means if you deposit and widraw money 10 time simultanouse so it could be give wrong output\n",
    "- use lock function to solve this problem"
   ]
  },
  {
   "cell_type": "code",
   "execution_count": 15,
   "metadata": {},
   "outputs": [
    {
     "name": "stdout",
     "output_type": "stream",
     "text": [
      "200\n",
      "1.9049034118652344\n"
     ]
    }
   ],
   "source": [
    "balance = 200\n",
    "lock = threading.Lock() # for lock the thread so that only one thread can change the balance ata time\n",
    "def deposit(amount, times,lock):\n",
    "    global balance\n",
    "    for _ in range(times):\n",
    "        balance += amount\n",
    "\n",
    "def widraw(amount, times,lock):\n",
    "    global balance\n",
    "    for _ in range(times):\n",
    "       balance -= amount\n",
    "    \n",
    "start_t = time()\n",
    "\n",
    "deposit(1,9000000,lock)\n",
    "widraw(1,9000000,lock)\n",
    "\n",
    "end_time = time()\n",
    "print(balance)\n",
    "print(end_time-start_t)\n"
   ]
  },
  {
   "cell_type": "code",
   "execution_count": 14,
   "metadata": {},
   "outputs": [
    {
     "name": "stdout",
     "output_type": "stream",
     "text": [
      "200\n",
      "8.281754493713379\n"
     ]
    }
   ],
   "source": [
    "balance = 200\n",
    "lock = threading.Lock() # for lock the thread so that only one thread can change the balance ata time\n",
    "def deposit(amount, times,lock):\n",
    "    global balance\n",
    "    for _ in range(times):\n",
    "        lock.acquire()\n",
    "        balance += amount\n",
    "        lock.release()\n",
    "\n",
    "def widraw(amount, times,lock):\n",
    "    global balance\n",
    "    for _ in range(times):\n",
    "       lock.acquire()\n",
    "       balance -= amount\n",
    "       lock.release()\n",
    "    \n",
    "start_t = time()\n",
    "deposit_thread = threading.Thread(target=deposit,args=[1,9000000,lock])\n",
    "widraw_thread = threading.Thread(target=widraw,args=[1,9000000,lock])\n",
    "\n",
    "deposit_thread.start()\n",
    "widraw_thread.start()\n",
    "\n",
    "deposit_thread.join()\n",
    "widraw_thread.join()\n",
    "\n",
    "end_time = time()\n",
    "print(balance)\n",
    "print(end_time-start_t)\n"
   ]
  },
  {
   "cell_type": "code",
   "execution_count": null,
   "metadata": {},
   "outputs": [],
   "source": []
  }
 ],
 "metadata": {
  "kernelspec": {
   "display_name": "Python 3",
   "language": "python",
   "name": "python3"
  },
  "language_info": {
   "codemirror_mode": {
    "name": "ipython",
    "version": 3
   },
   "file_extension": ".py",
   "mimetype": "text/x-python",
   "name": "python",
   "nbconvert_exporter": "python",
   "pygments_lexer": "ipython3",
   "version": "3.12.4"
  }
 },
 "nbformat": 4,
 "nbformat_minor": 2
}
