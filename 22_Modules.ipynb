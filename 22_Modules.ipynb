{
 "cells": [
  {
   "cell_type": "markdown",
   "metadata": {},
   "source": [
    "## Modules\n",
    "1. Math\n",
    "2. Os\n",
    "3. Random\n",
    "4. time"
   ]
  },
  {
   "cell_type": "code",
   "execution_count": 1,
   "metadata": {},
   "outputs": [],
   "source": [
    "import math"
   ]
  },
  {
   "cell_type": "code",
   "execution_count": 2,
   "metadata": {},
   "outputs": [
    {
     "data": {
      "text/plain": [
       "3.141592653589793"
      ]
     },
     "execution_count": 2,
     "metadata": {},
     "output_type": "execute_result"
    }
   ],
   "source": [
    "math.pi"
   ]
  },
  {
   "cell_type": "code",
   "execution_count": 5,
   "metadata": {},
   "outputs": [
    {
     "data": {
      "text/plain": [
       "2.718281828459045"
      ]
     },
     "execution_count": 5,
     "metadata": {},
     "output_type": "execute_result"
    }
   ],
   "source": [
    "math.e"
   ]
  },
  {
   "cell_type": "code",
   "execution_count": 3,
   "metadata": {},
   "outputs": [
    {
     "data": {
      "text/plain": [
       "120"
      ]
     },
     "execution_count": 3,
     "metadata": {},
     "output_type": "execute_result"
    }
   ],
   "source": [
    "math.factorial(5)"
   ]
  },
  {
   "cell_type": "code",
   "execution_count": 4,
   "metadata": {},
   "outputs": [
    {
     "data": {
      "text/plain": [
       "5"
      ]
     },
     "execution_count": 4,
     "metadata": {},
     "output_type": "execute_result"
    }
   ],
   "source": [
    "math.ceil(4.3)"
   ]
  },
  {
   "cell_type": "code",
   "execution_count": 7,
   "metadata": {},
   "outputs": [
    {
     "data": {
      "text/plain": [
       "4"
      ]
     },
     "execution_count": 7,
     "metadata": {},
     "output_type": "execute_result"
    }
   ],
   "source": [
    "math.floor(4.6)"
   ]
  },
  {
   "cell_type": "code",
   "execution_count": 9,
   "metadata": {},
   "outputs": [
    {
     "data": {
      "text/plain": [
       "27.0"
      ]
     },
     "execution_count": 9,
     "metadata": {},
     "output_type": "execute_result"
    }
   ],
   "source": [
    "math.pow(3,3)"
   ]
  },
  {
   "cell_type": "code",
   "execution_count": 13,
   "metadata": {},
   "outputs": [
    {
     "data": {
      "text/plain": [
       "16"
      ]
     },
     "execution_count": 13,
     "metadata": {},
     "output_type": "execute_result"
    }
   ],
   "source": [
    "import random\n",
    "random.randint(1,18)"
   ]
  },
  {
   "cell_type": "code",
   "execution_count": 20,
   "metadata": {},
   "outputs": [
    {
     "data": {
      "text/plain": [
       "[7, 1, 8, 3, 6, 5]"
      ]
     },
     "execution_count": 20,
     "metadata": {},
     "output_type": "execute_result"
    }
   ],
   "source": [
    "a =[1,3,5,6,7,8]\n",
    "random.shuffle(a)\n",
    "a"
   ]
  },
  {
   "cell_type": "markdown",
   "metadata": {},
   "source": [
    "### Time"
   ]
  },
  {
   "cell_type": "code",
   "execution_count": 21,
   "metadata": {},
   "outputs": [],
   "source": [
    "import time"
   ]
  },
  {
   "cell_type": "code",
   "execution_count": 23,
   "metadata": {},
   "outputs": [
    {
     "data": {
      "text/plain": [
       "1708953250.4798167"
      ]
     },
     "execution_count": 23,
     "metadata": {},
     "output_type": "execute_result"
    }
   ],
   "source": [
    "time.time()"
   ]
  },
  {
   "cell_type": "code",
   "execution_count": 25,
   "metadata": {},
   "outputs": [
    {
     "data": {
      "text/plain": [
       "'Mon Feb 26 18:14:25 2024'"
      ]
     },
     "execution_count": 25,
     "metadata": {},
     "output_type": "execute_result"
    }
   ],
   "source": [
    "time.ctime()"
   ]
  },
  {
   "cell_type": "code",
   "execution_count": 29,
   "metadata": {},
   "outputs": [
    {
     "name": "stdout",
     "output_type": "stream",
     "text": [
      "Hello\n",
      "world\n"
     ]
    }
   ],
   "source": [
    "print(\"Hello\")\n",
    "time.sleep(1)\n",
    "print(\"world\")"
   ]
  },
  {
   "cell_type": "markdown",
   "metadata": {},
   "source": [
    "## OS"
   ]
  },
  {
   "cell_type": "code",
   "execution_count": 1,
   "metadata": {},
   "outputs": [],
   "source": [
    "import os"
   ]
  },
  {
   "cell_type": "code",
   "execution_count": 31,
   "metadata": {},
   "outputs": [
    {
     "data": {
      "text/plain": [
       "'e:\\\\Work\\\\Data Science\\\\Python'"
      ]
     },
     "execution_count": 31,
     "metadata": {},
     "output_type": "execute_result"
    }
   ],
   "source": [
    "os.getcwd()"
   ]
  },
  {
   "cell_type": "code",
   "execution_count": 32,
   "metadata": {},
   "outputs": [
    {
     "data": {
      "text/plain": [
       "['.git',\n",
       " '.vscode',\n",
       " '02_Srings.py',\n",
       " '03_variables.py',\n",
       " '04_Input_variables.py',\n",
       " '05_ConditionalLogin.py',\n",
       " '06_typeCasting.py',\n",
       " '07_If_Else.py',\n",
       " '08_Function.py',\n",
       " '09_2_ForLoops.py',\n",
       " '09_Loops.py',\n",
       " '10_Packages.py',\n",
       " '11_ImportLibararies.py',\n",
       " '12_TroubleShooting.py',\n",
       " '13_ExceptionHandling.py',\n",
       " '14_I_O_File.py',\n",
       " '15_list.py',\n",
       " '16_tuple.py',\n",
       " '17_sets.py',\n",
       " '18_dictionary.py',\n",
       " '19_OOPs.py',\n",
       " '20_Data_Visualization.py',\n",
       " '21_BuiltIn_func.ipynb',\n",
       " '22_Modules.ipynb',\n",
       " 'assets',\n",
       " 'SMIT',\n",
       " 'text.txt',\n",
       " '_Operator.py']"
      ]
     },
     "execution_count": 32,
     "metadata": {},
     "output_type": "execute_result"
    }
   ],
   "source": [
    "os.listdir()"
   ]
  },
  {
   "cell_type": "code",
   "execution_count": 2,
   "metadata": {},
   "outputs": [],
   "source": [
    "os.mkdir(\"Testing-Os-Module\")"
   ]
  },
  {
   "cell_type": "code",
   "execution_count": 5,
   "metadata": {},
   "outputs": [
    {
     "name": "stdout",
     "output_type": "stream",
     "text": [
      "File Already Exist!\n"
     ]
    }
   ],
   "source": [
    "if(os.path.exists('Testing-Os-Module')):\n",
    "    print(\"File Already Exist!\")\n",
    "else:\n",
    "    os.mkdir('Testing-Os-Module')"
   ]
  },
  {
   "cell_type": "code",
   "execution_count": 3,
   "metadata": {},
   "outputs": [],
   "source": [
    "for i in range(1,100):\n",
    "    os.mkdir(f'Testing-Os-Module/Day{i}')"
   ]
  },
  {
   "cell_type": "code",
   "execution_count": 6,
   "metadata": {},
   "outputs": [],
   "source": [
    "for i in range(1,100):\n",
    "    os.rename(f'Testing-Os-Module/Day{i}',f'Testing-Os-Module/Day-{i}')"
   ]
  },
  {
   "cell_type": "code",
   "execution_count": 9,
   "metadata": {},
   "outputs": [
    {
     "name": "stdout",
     "output_type": "stream",
     "text": [
      "['Day-1', 'Day-10', 'Day-11', 'Day-12', 'Day-13', 'Day-14', 'Day-15', 'Day-16', 'Day-17', 'Day-18', 'Day-19', 'Day-2', 'Day-20', 'Day-21', 'Day-22', 'Day-23', 'Day-24', 'Day-25', 'Day-26', 'Day-27', 'Day-28', 'Day-29', 'Day-3', 'Day-30', 'Day-31', 'Day-32', 'Day-33', 'Day-34', 'Day-35', 'Day-36', 'Day-37', 'Day-38', 'Day-39', 'Day-4', 'Day-40', 'Day-41', 'Day-42', 'Day-43', 'Day-44', 'Day-45', 'Day-46', 'Day-47', 'Day-48', 'Day-49', 'Day-5', 'Day-50', 'Day-51', 'Day-52', 'Day-53', 'Day-54', 'Day-55', 'Day-56', 'Day-57', 'Day-58', 'Day-59', 'Day-6', 'Day-60', 'Day-61', 'Day-62', 'Day-63', 'Day-64', 'Day-65', 'Day-66', 'Day-67', 'Day-68', 'Day-69', 'Day-7', 'Day-70', 'Day-71', 'Day-72', 'Day-73', 'Day-74', 'Day-75', 'Day-76', 'Day-77', 'Day-78', 'Day-79', 'Day-8', 'Day-80', 'Day-81', 'Day-82', 'Day-83', 'Day-84', 'Day-85', 'Day-86', 'Day-87', 'Day-88', 'Day-89', 'Day-9', 'Day-90', 'Day-91', 'Day-92', 'Day-93', 'Day-94', 'Day-95', 'Day-96', 'Day-97', 'Day-98', 'Day-99']\n",
      "Day-1\n",
      "[]\n",
      "Day-10\n",
      "[]\n",
      "Day-11\n",
      "[]\n",
      "Day-12\n",
      "[]\n",
      "Day-13\n",
      "[]\n",
      "Day-14\n",
      "[]\n",
      "Day-15\n",
      "[]\n",
      "Day-16\n",
      "[]\n",
      "Day-17\n",
      "[]\n",
      "Day-18\n",
      "[]\n",
      "Day-19\n",
      "[]\n",
      "Day-2\n",
      "[]\n",
      "Day-20\n",
      "[]\n",
      "Day-21\n",
      "[]\n",
      "Day-22\n",
      "[]\n",
      "Day-23\n",
      "[]\n",
      "Day-24\n",
      "[]\n",
      "Day-25\n",
      "[]\n",
      "Day-26\n",
      "[]\n",
      "Day-27\n",
      "[]\n",
      "Day-28\n",
      "[]\n",
      "Day-29\n",
      "[]\n",
      "Day-3\n",
      "[]\n",
      "Day-30\n",
      "[]\n",
      "Day-31\n",
      "[]\n",
      "Day-32\n",
      "[]\n",
      "Day-33\n",
      "[]\n",
      "Day-34\n",
      "[]\n",
      "Day-35\n",
      "[]\n",
      "Day-36\n",
      "[]\n",
      "Day-37\n",
      "[]\n",
      "Day-38\n",
      "[]\n",
      "Day-39\n",
      "[]\n",
      "Day-4\n",
      "[]\n",
      "Day-40\n",
      "[]\n",
      "Day-41\n",
      "[]\n",
      "Day-42\n",
      "[]\n",
      "Day-43\n",
      "[]\n",
      "Day-44\n",
      "[]\n",
      "Day-45\n",
      "[]\n",
      "Day-46\n",
      "[]\n",
      "Day-47\n",
      "[]\n",
      "Day-48\n",
      "[]\n",
      "Day-49\n",
      "[]\n",
      "Day-5\n",
      "[]\n",
      "Day-50\n",
      "[]\n",
      "Day-51\n",
      "[]\n",
      "Day-52\n",
      "[]\n",
      "Day-53\n",
      "[]\n",
      "Day-54\n",
      "[]\n",
      "Day-55\n",
      "[]\n",
      "Day-56\n",
      "[]\n",
      "Day-57\n",
      "[]\n",
      "Day-58\n",
      "[]\n",
      "Day-59\n",
      "[]\n",
      "Day-6\n",
      "[]\n",
      "Day-60\n",
      "[]\n",
      "Day-61\n",
      "[]\n",
      "Day-62\n",
      "[]\n",
      "Day-63\n",
      "[]\n",
      "Day-64\n",
      "[]\n",
      "Day-65\n",
      "[]\n",
      "Day-66\n",
      "[]\n",
      "Day-67\n",
      "[]\n",
      "Day-68\n",
      "[]\n",
      "Day-69\n",
      "[]\n",
      "Day-7\n",
      "[]\n",
      "Day-70\n",
      "[]\n",
      "Day-71\n",
      "[]\n",
      "Day-72\n",
      "[]\n",
      "Day-73\n",
      "[]\n",
      "Day-74\n",
      "[]\n",
      "Day-75\n",
      "[]\n",
      "Day-76\n",
      "[]\n",
      "Day-77\n",
      "[]\n",
      "Day-78\n",
      "[]\n",
      "Day-79\n",
      "[]\n",
      "Day-8\n",
      "[]\n",
      "Day-80\n",
      "[]\n",
      "Day-81\n",
      "[]\n",
      "Day-82\n",
      "[]\n",
      "Day-83\n",
      "[]\n",
      "Day-84\n",
      "[]\n",
      "Day-85\n",
      "[]\n",
      "Day-86\n",
      "[]\n",
      "Day-87\n",
      "[]\n",
      "Day-88\n",
      "[]\n",
      "Day-89\n",
      "[]\n",
      "Day-9\n",
      "[]\n",
      "Day-90\n",
      "[]\n",
      "Day-91\n",
      "[]\n",
      "Day-92\n",
      "[]\n",
      "Day-93\n",
      "[]\n",
      "Day-94\n",
      "[]\n",
      "Day-95\n",
      "[]\n",
      "Day-96\n",
      "[]\n",
      "Day-97\n",
      "[]\n",
      "Day-98\n",
      "[]\n",
      "Day-99\n",
      "[]\n"
     ]
    }
   ],
   "source": [
    "folders = os.listdir('Testing-Os-Module')\n",
    "print(folders)\n",
    "for folder in folders:\n",
    "    print(folder)\n",
    "    print(os.listdir(f'Testing-Os-Module/{folder}'))"
   ]
  },
  {
   "cell_type": "code",
   "execution_count": 48,
   "metadata": {},
   "outputs": [],
   "source": [
    "import calendar\n",
    "year = 2024\n",
    "day = 0\n",
    "a =calendar.Calendar(day)\n"
   ]
  },
  {
   "cell_type": "code",
   "execution_count": 35,
   "metadata": {},
   "outputs": [
    {
     "name": "stdout",
     "output_type": "stream",
     "text": [
      "    October 2021\n",
      "Mo Tu We Th Fr Sa Su\n",
      "             1  2  3\n",
      " 4  5  6  7  8  9 10\n",
      "11 12 13 14 15 16 17\n",
      "18 19 20 21 22 23 24\n",
      "25 26 27 28 29 30 31\n",
      "\n"
     ]
    }
   ],
   "source": [
    "yy =2021\n",
    "mm =10\n",
    "print(calendar.month(yy, mm))"
   ]
  },
  {
   "cell_type": "code",
   "execution_count": 37,
   "metadata": {},
   "outputs": [
    {
     "name": "stdout",
     "output_type": "stream",
     "text": [
      "     March 2024\n",
      "Mo Tu We Th Fr Sa Su\n",
      "             1  2  3\n",
      " 4  5  6  7  8  9 10\n",
      "11 12 13 14 15 16 17\n",
      "18 19 20 21 22 23 24\n",
      "25 26 27 28 29 30 31\n",
      "\n"
     ]
    }
   ],
   "source": [
    "y = int(input(\"ENTER THE YEAR : \"))\n",
    "\n",
    "#taking input of month from the user\n",
    "m = int(input(\"ENTER THE MONTH : \"))\n",
    "cal = calendar.month(y, m)\n",
    "\n",
    "# print the cal (calendar is stored in the cal variable)\n",
    "print(cal)"
   ]
  },
  {
   "cell_type": "code",
   "execution_count": 49,
   "metadata": {},
   "outputs": [
    {
     "data": {
      "text/plain": [
       "True"
      ]
     },
     "execution_count": 49,
     "metadata": {},
     "output_type": "execute_result"
    }
   ],
   "source": [
    "calendar.isleap(year)"
   ]
  },
  {
   "cell_type": "code",
   "execution_count": 54,
   "metadata": {},
   "outputs": [
    {
     "name": "stdout",
     "output_type": "stream",
     "text": [
      "                                  2024\n",
      "\n",
      "      January                   February                   March\n",
      "Mo Tu We Th Fr Sa Su      Mo Tu We Th Fr Sa Su      Mo Tu We Th Fr Sa Su\n",
      " 1  2  3  4  5  6  7                1  2  3  4                   1  2  3\n",
      " 8  9 10 11 12 13 14       5  6  7  8  9 10 11       4  5  6  7  8  9 10\n",
      "15 16 17 18 19 20 21      12 13 14 15 16 17 18      11 12 13 14 15 16 17\n",
      "22 23 24 25 26 27 28      19 20 21 22 23 24 25      18 19 20 21 22 23 24\n",
      "29 30 31                  26 27 28 29               25 26 27 28 29 30 31\n",
      "\n",
      "       April                      May                       June\n",
      "Mo Tu We Th Fr Sa Su      Mo Tu We Th Fr Sa Su      Mo Tu We Th Fr Sa Su\n",
      " 1  2  3  4  5  6  7             1  2  3  4  5                      1  2\n",
      " 8  9 10 11 12 13 14       6  7  8  9 10 11 12       3  4  5  6  7  8  9\n",
      "15 16 17 18 19 20 21      13 14 15 16 17 18 19      10 11 12 13 14 15 16\n",
      "22 23 24 25 26 27 28      20 21 22 23 24 25 26      17 18 19 20 21 22 23\n",
      "29 30                     27 28 29 30 31            24 25 26 27 28 29 30\n",
      "\n",
      "        July                     August                  September\n",
      "Mo Tu We Th Fr Sa Su      Mo Tu We Th Fr Sa Su      Mo Tu We Th Fr Sa Su\n",
      " 1  2  3  4  5  6  7                1  2  3  4                         1\n",
      " 8  9 10 11 12 13 14       5  6  7  8  9 10 11       2  3  4  5  6  7  8\n",
      "15 16 17 18 19 20 21      12 13 14 15 16 17 18       9 10 11 12 13 14 15\n",
      "22 23 24 25 26 27 28      19 20 21 22 23 24 25      16 17 18 19 20 21 22\n",
      "29 30 31                  26 27 28 29 30 31         23 24 25 26 27 28 29\n",
      "                                                    30\n",
      "\n",
      "      October                   November                  December\n",
      "Mo Tu We Th Fr Sa Su      Mo Tu We Th Fr Sa Su      Mo Tu We Th Fr Sa Su\n",
      "    1  2  3  4  5  6                   1  2  3                         1\n",
      " 7  8  9 10 11 12 13       4  5  6  7  8  9 10       2  3  4  5  6  7  8\n",
      "14 15 16 17 18 19 20      11 12 13 14 15 16 17       9 10 11 12 13 14 15\n",
      "21 22 23 24 25 26 27      18 19 20 21 22 23 24      16 17 18 19 20 21 22\n",
      "28 29 30 31               25 26 27 28 29 30         23 24 25 26 27 28 29\n",
      "                                                    30 31\n",
      "\n"
     ]
    }
   ],
   "source": [
    "print(calendar.calendar(2024))"
   ]
  },
  {
   "cell_type": "code",
   "execution_count": null,
   "metadata": {},
   "outputs": [],
   "source": []
  }
 ],
 "metadata": {
  "kernelspec": {
   "display_name": "Python 3",
   "language": "python",
   "name": "python3"
  },
  "language_info": {
   "codemirror_mode": {
    "name": "ipython",
    "version": 3
   },
   "file_extension": ".py",
   "mimetype": "text/x-python",
   "name": "python",
   "nbconvert_exporter": "python",
   "pygments_lexer": "ipython3",
   "version": "3.12.4"
  }
 },
 "nbformat": 4,
 "nbformat_minor": 2
}
