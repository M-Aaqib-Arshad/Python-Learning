{
 "cells": [
  {
   "cell_type": "code",
   "execution_count": 1,
   "metadata": {},
   "outputs": [
    {
     "name": "stdout",
     "output_type": "stream",
     "text": [
      "e:\\Work\\Data Science\\Python-Learning\n"
     ]
    }
   ],
   "source": [
    "import os\n",
    "print(os.getcwd())"
   ]
  },
  {
   "cell_type": "code",
   "execution_count": 2,
   "metadata": {},
   "outputs": [
    {
     "name": "stdout",
     "output_type": "stream",
     "text": [
      "['.git', '.gitignore', '02_Srings.py', '03_variables.py', '04_Input_variables.py', '05_ConditionalLogin.py', '06_typeCasting.py', '07_If_Else.py', '08_Function.py', '09_2_ForLoops.py', '09_Loops.py', '10_Packages.py', '11_ImportLibararies.py', '12_TroubleShooting.py', '13_ExceptionHandling.py', '14_I_O_File.py', '15_list.py', '16_tuple.py', '17_sets.py', '18_dictionary.py', '19_OOPs.py', '20_Data_Visualization.py', '21_BuiltIn_func.ipynb', '22_Modules.ipynb', '23_threads.ipynb', '24_Iterators.ipynb', '25_memoization.ipynb', '26_Os_module.ipynb', 'assets', 'fraction.py', 'GUI', 'LeetCode', 'OPP.ipynb', 'Problems', 'README.md', 'SMIT', 'text.txt', '_Operator.py']\n"
     ]
    }
   ],
   "source": [
    "print(os.listdir())"
   ]
  },
  {
   "cell_type": "code",
   "execution_count": null,
   "metadata": {},
   "outputs": [],
   "source": []
  }
 ],
 "metadata": {
  "kernelspec": {
   "display_name": "Python 3",
   "language": "python",
   "name": "python3"
  },
  "language_info": {
   "codemirror_mode": {
    "name": "ipython",
    "version": 3
   },
   "file_extension": ".py",
   "mimetype": "text/x-python",
   "name": "python",
   "nbconvert_exporter": "python",
   "pygments_lexer": "ipython3",
   "version": "3.12.4"
  }
 },
 "nbformat": 4,
 "nbformat_minor": 2
}
