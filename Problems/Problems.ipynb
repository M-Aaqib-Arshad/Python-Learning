{
 "cells": [
  {
   "cell_type": "markdown",
   "metadata": {},
   "source": [
    "1. Find highest age from input 3 ages"
   ]
  },
  {
   "cell_type": "code",
   "execution_count": 3,
   "metadata": {},
   "outputs": [
    {
     "name": "stdout",
     "output_type": "stream",
     "text": [
      "values are same\n"
     ]
    }
   ],
   "source": [
    "a = int(input('Enter first age'))\n",
    "b = int(input('Enter second age'))\n",
    "c = int(input('Enter third age'))\n",
    "\n",
    "if(type(a)== int and type(b)==int and type(c)==int):\n",
    "    if a > b :\n",
    "        if a > c:\n",
    "            print(a) \n",
    "        else:\n",
    "            print(c)\n",
    "    elif b > a:\n",
    "        if b > c:\n",
    "            print(b)\n",
    "        else:\n",
    "            print(c)\n",
    "    else: \n",
    "        print('values are same')\n",
    "else:\n",
    "    print('Enter only natural numbers')"
   ]
  },
  {
   "cell_type": "markdown",
   "metadata": {},
   "source": [
    "2. Celcius to fahrenheit"
   ]
  },
  {
   "cell_type": "code",
   "execution_count": 6,
   "metadata": {},
   "outputs": [
    {
     "name": "stdout",
     "output_type": "stream",
     "text": [
      "98.60000000000001\n"
     ]
    }
   ],
   "source": [
    "def celcius_fahrenheit(cel_value):\n",
    "    fahrenheit = 9/5 * cel_value + 32\n",
    "    print(fahrenheit)\n",
    "\n",
    "celcius_fahrenheit(37)"
   ]
  },
  {
   "cell_type": "markdown",
   "metadata": {},
   "source": [
    "3. Swapping two numbers"
   ]
  },
  {
   "cell_type": "code",
   "execution_count": 29,
   "metadata": {},
   "outputs": [
    {
     "name": "stdout",
     "output_type": "stream",
     "text": [
      "2\n",
      "5\n"
     ]
    }
   ],
   "source": [
    "a = int(input('Enter first age'))\n",
    "b = int(input('Enter second age'))\n",
    "c = a\n",
    "a = b \n",
    "b = c\n",
    "# print(id(a))\n",
    "# print(id(c))\n",
    "print(a)\n",
    "print(b)"
   ]
  },
  {
   "cell_type": "markdown",
   "metadata": {},
   "source": [
    "4. Plindrome LeetCode"
   ]
  },
  {
   "cell_type": "code",
   "execution_count": 66,
   "metadata": {},
   "outputs": [
    {
     "name": "stdout",
     "output_type": "stream",
     "text": [
      "True\n"
     ]
    }
   ],
   "source": [
    "x = 121\n",
    "y = str(x)\n",
    "\n",
    "if(x < 0):\n",
    "  z = False\n",
    "else:\n",
    "   z = x == int(y[::-1])\n",
    "\n",
    "print(z)\n"
   ]
  },
  {
   "cell_type": "markdown",
   "metadata": {},
   "source": [
    "5. Roman to Integers LeetCode"
   ]
  },
  {
   "cell_type": "code",
   "execution_count": 24,
   "metadata": {},
   "outputs": [
    {
     "data": {
      "text/plain": [
       "1994"
      ]
     },
     "execution_count": 24,
     "metadata": {},
     "output_type": "execute_result"
    }
   ],
   "source": [
    "x = \"MCMXCIV\"\n",
    "values = {\n",
    "    \"I\": 1,\n",
    "    \"V\": 5,\n",
    "    \"X\": 10,\n",
    "    \"L\": 50,\n",
    "    \"C\": 100,\n",
    "    \"D\": 500,\n",
    "    \"M\": 1000\n",
    "}\n",
    "value = 0\n",
    "for i in range(len(x)):\n",
    "    if i < len(x)-1 and values[x[i]] < values[x[i+1]]:\n",
    "        value -= values[x[i]]\n",
    "    else:\n",
    "        value += values[x[i]]\n",
    "    \n",
    "value\n",
    "\n"
   ]
  },
  {
   "cell_type": "markdown",
   "metadata": {},
   "source": [
    "6. Longest Common Prefix LeetCode"
   ]
  },
  {
   "cell_type": "code",
   "execution_count": 59,
   "metadata": {},
   "outputs": [
    {
     "name": "stdout",
     "output_type": "stream",
     "text": [
      "['car', 'dog', 'racecar']\n"
     ]
    },
    {
     "data": {
      "text/plain": [
       "'a'"
      ]
     },
     "execution_count": 59,
     "metadata": {},
     "output_type": "execute_result"
    }
   ],
   "source": [
    "strs = [\"dog\",\"racecar\",\"car\"]\n",
    "strs = sorted(strs)\n",
    "print(strs)\n",
    "pre=\"\"  \n",
    "for i in range(len(strs[0])):\n",
    "    if strs[0][i] == strs[-1][i]:\n",
    "        pre += strs[0][i]\n",
    "    else:\n",
    "        break\n",
    "    \n",
    "\n",
    "\n",
    "pre\n",
    "   "
   ]
  },
  {
   "cell_type": "code",
   "execution_count": null,
   "metadata": {},
   "outputs": [],
   "source": []
  }
 ],
 "metadata": {
  "kernelspec": {
   "display_name": "Python 3",
   "language": "python",
   "name": "python3"
  },
  "language_info": {
   "codemirror_mode": {
    "name": "ipython",
    "version": 3
   },
   "file_extension": ".py",
   "mimetype": "text/x-python",
   "name": "python",
   "nbconvert_exporter": "python",
   "pygments_lexer": "ipython3",
   "version": "3.12.4"
  }
 },
 "nbformat": 4,
 "nbformat_minor": 2
}
