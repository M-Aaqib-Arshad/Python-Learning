{
 "cells": [
  {
   "cell_type": "markdown",
   "id": "ce962ef0",
   "metadata": {},
   "source": [
    "# Hashing"
   ]
  },
  {
   "cell_type": "markdown",
   "id": "3c060465",
   "metadata": {},
   "source": [
    "## What is Hashing?\n",
    "Hashing is a technique used to map data of arbitrary size to fixed-size values using a hash function. It's commonly used in data structures like hash tables (dictionaries) to enable fast data retrieval.\n",
    "\n",
    "## Why Hashing?\n",
    "Hashing allows:\n",
    "\n",
    "Constant time average-case complexity: O(1)\n",
    "\n",
    "Efficient search, insert, and delete operations\n",
    "\n"
   ]
  },
  {
   "cell_type": "markdown",
   "id": "61804995",
   "metadata": {},
   "source": [
    "### How Hashing Works\n",
    "1. Hash Function\n",
    "Takes a key and converts it into an index (hash code)\n",
    "\n",
    "Should be fast and uniformly distribute keys\n",
    "\n",
    "``` index = hash(key) % table_size ```\n"
   ]
  },
  {
   "cell_type": "markdown",
   "id": "70d8dd87",
   "metadata": {},
   "source": [
    "## Types of Hashing\n",
    "1. Chaining \n",
    "   - Creating Linked list\n",
    "   - Creating sub balanced tree\n",
    "2. Open Adressing\n",
    "    - Linear Probing \n",
    "        - (Hi + Ki) % size\n",
    "    - Quadratic Probing\n",
    "        - (Hi + Ki**2 )% size"
   ]
  },
  {
   "cell_type": "markdown",
   "id": "3977ffd3",
   "metadata": {},
   "source": [
    "### Dictionary"
   ]
  },
  {
   "cell_type": "code",
   "execution_count": null,
   "id": "f8cf22b8",
   "metadata": {},
   "outputs": [],
   "source": [
    "class Dictionary:\n",
    "    def __init__(self, size):\n",
    "        self.size = size\n",
    "        self.slots = [None] * size\n",
    "\n",
    "    "
   ]
  },
  {
   "cell_type": "code",
   "execution_count": null,
   "id": "4938c933",
   "metadata": {},
   "outputs": [],
   "source": []
  },
  {
   "cell_type": "code",
   "execution_count": null,
   "id": "952ddcff",
   "metadata": {},
   "outputs": [],
   "source": []
  }
 ],
 "metadata": {
  "language_info": {
   "name": "python"
  }
 },
 "nbformat": 4,
 "nbformat_minor": 5
}
