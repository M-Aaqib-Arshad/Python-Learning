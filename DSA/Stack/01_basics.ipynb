{
 "cells": [
  {
   "cell_type": "markdown",
   "id": "774b864f",
   "metadata": {},
   "source": [
    "# Stack\n",
    "## LIFO --> Last In First Out\n",
    "### Functions\n",
    "| Functions | Description |\n",
    "|-----------|-------------|\n",
    "| 1. push |    add element at the top|\n",
    "| 2. pop  |    del element at the top|\n",
    "| 3. peak |    Give top element|\n",
    "| 4. isempty | Tell about stack is empty|\n",
    "| 5. size   |  Give size of the stack|\n"
   ]
  },
  {
   "cell_type": "code",
   "execution_count": 1,
   "id": "89f3c71f",
   "metadata": {},
   "outputs": [],
   "source": [
    "class Node:\n",
    "    def __init__(self,value):\n",
    "        self.data = value\n",
    "        self.next = None\n",
    "        \n",
    "\n",
    "class Stack:\n",
    "    def __init__(self):\n",
    "        self.top = None\n",
    "        self.size = 0\n",
    "\n",
    "    def __str__(self):\n",
    "        curr = self.top\n",
    "        result = ''\n",
    "        while curr != None:\n",
    "            result += str(curr.data) + \" --> \"\n",
    "            curr = curr.next\n",
    "        return result[:-5]\n",
    "    \n",
    "    def isempty(self):\n",
    "        return self.top == None\n",
    "    \n",
    "    def peak(self):\n",
    "        if(self.isempty()):\n",
    "            return \"No item is found!\"\n",
    "        else:\n",
    "            return self.top.data\n",
    "    \n",
    "    def push(self,value):\n",
    "        new_node = Node(value)\n",
    "        new_node.next = self.top\n",
    "        self.top = new_node\n",
    "        self.size +=1\n",
    "\n",
    "    def pop(self):\n",
    "        if(self.isempty()):\n",
    "            return \"stack is empty!\"\n",
    "        else: \n",
    "            curr = self.top\n",
    "            self.top = self.top.next\n",
    "            self.size -=1\n",
    "            return curr.data\n",
    "\n",
    "    def __len__(self):\n",
    "        return self.size\n",
    "\n"
   ]
  },
  {
   "cell_type": "code",
   "execution_count": 58,
   "id": "abd077f0",
   "metadata": {},
   "outputs": [
    {
     "data": {
      "text/plain": [
       "False"
      ]
     },
     "execution_count": 58,
     "metadata": {},
     "output_type": "execute_result"
    }
   ],
   "source": [
    "st = Stack()\n",
    "st.push(3)\n",
    "st.push(2)\n",
    "st.push(1)\n",
    "st.isempty()\n"
   ]
  },
  {
   "cell_type": "markdown",
   "id": "fa592ba5",
   "metadata": {},
   "source": [
    "#### String Reverse\n",
    "1. but the best option is to use two pointer technique w.r.t both complexities"
   ]
  },
  {
   "cell_type": "code",
   "execution_count": 60,
   "id": "9ae6297d",
   "metadata": {},
   "outputs": [
    {
     "data": {
      "text/plain": [
       "'olleh'"
      ]
     },
     "execution_count": 60,
     "metadata": {},
     "output_type": "execute_result"
    }
   ],
   "source": [
    "def reverse(text):\n",
    "    s = Stack()\n",
    "    for i in text:\n",
    "        s.push(i)\n",
    "    res = ''\n",
    "    for _ in text:\n",
    "        res += s.pop()\n",
    "    return res\n",
    "reverse('hello')"
   ]
  },
  {
   "cell_type": "markdown",
   "id": "5d4762de",
   "metadata": {},
   "source": [
    "#### Editor Undo or Redo Function on string"
   ]
  },
  {
   "cell_type": "code",
   "execution_count": 67,
   "id": "a7fa90e4",
   "metadata": {},
   "outputs": [],
   "source": [
    "def undo_redo_function(text,command):\n",
    "    res = ''\n",
    "    s1 = Stack()\n",
    "    s2 = Stack()\n",
    "    for i in text:\n",
    "        s1.push(i)\n",
    "    \n",
    "    for i in command.lower():\n",
    "        if i =='u':\n",
    "            s2.push(s1.pop())\n",
    "        else:\n",
    "            if(s2.isempty()):\n",
    "                return \"Stack is Empty!\"\n",
    "            else:\n",
    "              s1.push(s2.pop())\n",
    "    while (not s1.isempty()):\n",
    "        res = s1.pop() + res\n",
    "\n",
    "    print(res)"
   ]
  },
  {
   "cell_type": "code",
   "execution_count": 70,
   "id": "d92a9e19",
   "metadata": {},
   "outputs": [
    {
     "data": {
      "text/plain": [
       "'Stack is Empty!'"
      ]
     },
     "execution_count": 70,
     "metadata": {},
     "output_type": "execute_result"
    }
   ],
   "source": [
    "undo_redo_function('Hello','uuurrrr')"
   ]
  },
  {
   "cell_type": "markdown",
   "id": "af7fc328",
   "metadata": {},
   "source": [
    "#### Find the Celebrity\n",
    "**Rules**\n",
    "1. Celebrity never knows anybody\n",
    "2. Everybody knows the celebrity"
   ]
  },
  {
   "cell_type": "code",
   "execution_count": null,
   "id": "84554d9c",
   "metadata": {},
   "outputs": [
    {
     "name": "stdout",
     "output_type": "stream",
     "text": [
      "1\n",
      "The celebrity is  2\n"
     ]
    }
   ],
   "source": [
    "mat = [[0,0,1,1],\n",
    "       [0,0,1,0],\n",
    "       [0,0,0,0],\n",
    "       [0,0,1,0]] \n",
    "\n",
    "def find_the_celeb(L):\n",
    "    s = Stack()\n",
    "    for i in range(len(L)):\n",
    "        s.push(i)\n",
    "        # print(i)\n",
    "    while (len(s)-1) >= 2:\n",
    "        i = s.pop()\n",
    "        j = s.pop()\n",
    "        if L[i][j] == 0:\n",
    "            # j is not a celebrity\n",
    "            s.push(i)\n",
    "        else:\n",
    "            s.push(j)\n",
    "\n",
    "    celeb = s.pop()\n",
    "    for i in range(len(L)):\n",
    "        if i != celeb:\n",
    "            if L[i][celeb] == 0 or L[celeb][i] == 1:\n",
    "                print(\"No one is celebrity\")\n",
    "                return\n",
    "        \n",
    "    print(\"The celebrity is \", celeb)\n",
    "\n",
    "\n",
    "\n",
    "find_the_celeb(mat)"
   ]
  },
  {
   "cell_type": "markdown",
   "id": "1931f6b4",
   "metadata": {},
   "source": [
    "#### Balanced Parathesis"
   ]
  },
  {
   "cell_type": "code",
   "execution_count": 12,
   "id": "88bb1379",
   "metadata": {},
   "outputs": [
    {
     "data": {
      "text/plain": [
       "True"
      ]
     },
     "execution_count": 12,
     "metadata": {},
     "output_type": "execute_result"
    }
   ],
   "source": [
    "# [{(a+b)+(c+d)}]\n",
    "\n",
    "\n",
    "def valid_parathesis(ps):\n",
    "    openings = ['(','{','[',]\n",
    "    closings = {')':'(','}':'{',']': '['}\n",
    "    s = Stack()\n",
    "    res = True\n",
    "    for i in ps:\n",
    "        if i in openings:\n",
    "            s.push(i)\n",
    "        else:\n",
    "            if closings[i] == s.pop():\n",
    "                res = True\n",
    "            else:\n",
    "                res = False\n",
    "    if len(s) != 0:\n",
    "        return False\n",
    "    return res\n",
    "valid_parathesis('({()})')"
   ]
  },
  {
   "cell_type": "code",
   "execution_count": null,
   "id": "5ae402cd",
   "metadata": {},
   "outputs": [],
   "source": []
  }
 ],
 "metadata": {
  "kernelspec": {
   "display_name": "Python 3",
   "language": "python",
   "name": "python3"
  },
  "language_info": {
   "codemirror_mode": {
    "name": "ipython",
    "version": 3
   },
   "file_extension": ".py",
   "mimetype": "text/x-python",
   "name": "python",
   "nbconvert_exporter": "python",
   "pygments_lexer": "ipython3",
   "version": "3.12.4"
  }
 },
 "nbformat": 4,
 "nbformat_minor": 5
}
