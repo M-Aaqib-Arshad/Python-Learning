{
 "cells": [
  {
   "cell_type": "code",
   "execution_count": 13,
   "metadata": {},
   "outputs": [],
   "source": [
    "import sys\n",
    "import ctypes"
   ]
  },
  {
   "cell_type": "markdown",
   "metadata": {},
   "source": [
    "| Type      | Convention        | Example           |\n",
    "|-----------|-------------------|-------------------|\n",
    "| Variable  | `snake_case`      | `user_name`       |\n",
    "| Function  | `snake_case`      | `get_user_data()` |\n",
    "| Class     | `PascalCase`      | `DataLoader`      |\n",
    "| Constant  | `UPPER_SNAKE_CASE`| `MAX_RETRIES`     |"
   ]
  },
  {
   "cell_type": "markdown",
   "metadata": {},
   "source": [
    "### Dynamic Array Concept\n",
    "Increment of space with 8"
   ]
  },
  {
   "cell_type": "code",
   "execution_count": 14,
   "metadata": {},
   "outputs": [
    {
     "data": {
      "text/plain": [
       "[10, 9, 8, 7, 6, 5, 4, 3, 2, 1]"
      ]
     },
     "execution_count": 14,
     "metadata": {},
     "output_type": "execute_result"
    }
   ],
   "source": [
    "Lst = [1,2,3,4,5,6,7,8,9,10]\n",
    "Lst.index(5)\n",
    "Lst[::-1]"
   ]
  },
  {
   "cell_type": "code",
   "execution_count": 15,
   "metadata": {},
   "outputs": [
    {
     "data": {
      "text/plain": [
       "136"
      ]
     },
     "execution_count": 15,
     "metadata": {},
     "output_type": "execute_result"
    }
   ],
   "source": [
    "sys.getsizeof(Lst)"
   ]
  },
  {
   "cell_type": "code",
   "execution_count": 16,
   "metadata": {},
   "outputs": [
    {
     "data": {
      "text/plain": [
       "[1, 2, 3, 4, 5, 100, 6, 7, 8, 9, 10]"
      ]
     },
     "execution_count": 16,
     "metadata": {},
     "output_type": "execute_result"
    }
   ],
   "source": [
    "Lst.insert(5, 100)\n",
    "Lst"
   ]
  },
  {
   "cell_type": "code",
   "execution_count": 17,
   "metadata": {},
   "outputs": [
    {
     "data": {
      "text/plain": [
       "[1, 2, 3, 4, 5, 6, 7, 8, 9, 10]"
      ]
     },
     "execution_count": 17,
     "metadata": {},
     "output_type": "execute_result"
    }
   ],
   "source": [
    "Lst.remove(100)\n",
    "Lst"
   ]
  },
  {
   "cell_type": "markdown",
   "metadata": {},
   "source": [
    "## Mera  List\n"
   ]
  },
  {
   "cell_type": "code",
   "execution_count": 27,
   "metadata": {},
   "outputs": [],
   "source": [
    "class MeraList:\n",
    "    def __init__(self):\n",
    "        self.size = 1 # how much an array can store\n",
    "        self.n = 0    # number of elements present list\n",
    "        self.A = self.__make_array(self.size)\n",
    "\n",
    "    def __str__(self):\n",
    "        result = \"\"\n",
    "        for i in range(self.n):\n",
    "            result = result + str(self.A[i]) + \",\"\n",
    "\n",
    "        result = \"[\" + result[:-1] + \"]\"\n",
    "        return result\n",
    "\n",
    "    def __len__(self):\n",
    "        return self.n\n",
    "    def __getitem__(self,index):\n",
    "        if 0 <= index < self.n:\n",
    "            return self.A[index]\n",
    "        else:\n",
    "            return \"IndexError -> Index is not present in Array.\"\n",
    "        \n",
    "    def pop(self):\n",
    "        if self.n != 0:\n",
    "            self.n = self.n -1\n",
    "    def clear(self):\n",
    "        self.n = 0\n",
    "        self.size = 1\n",
    "    def index(self, element):\n",
    "        for i in range(0,self.n):\n",
    "           if element == self.A[i]:\n",
    "               return i\n",
    "           \n",
    "        return \"IndexError, Element is not found!\"\n",
    "\n",
    "    \n",
    "    def append(self,item):\n",
    "        if self.n == self.size:\n",
    "           self.__resize(self.size * 2)\n",
    "    # Append\n",
    "        self.A[self.n] = item\n",
    "        self.n = self.n +1\n",
    "    def count(self,item):\n",
    "        occurance = 0\n",
    "        for i in range(0,self.n):\n",
    "            if item == self.A[i]:\n",
    "                occurance+=1\n",
    "        if occurance == 0:\n",
    "            return \"Element is not found!\"\n",
    "        return occurance\n",
    "    def reverse(self):\n",
    "        for i in range(0,self.n//2):\n",
    "            self.A[i],self.A[self.n-i-1] = self.A[self.n-i-1],self.A[i]\n",
    "    \n",
    "    def remove(self,item):\n",
    "    \n",
    "        for i in range(0,self.n):\n",
    "            if item == self.A[i]:\n",
    "                for j in range(i,self.n-1):\n",
    "                    self.A[j] = self.A[j+1]\n",
    "                print(self.n)\n",
    "                self.n = self.n-1\n",
    "                self.A[self.n] = None\n",
    "                print(self.n)\n",
    "                return self.A\n",
    "\n",
    "        \n",
    "            return   print(\"Element Error!, this element doesn't in the list.\")\n",
    "\n",
    "    def find(self,element):\n",
    "        for i in range(self.n):\n",
    "            if element == self.A[i]:\n",
    "                return i\n",
    "            \n",
    "        return \"Element is not found!\"\n",
    "\n",
    "    def insert(self,index,element):\n",
    "        if self.n == self.size:\n",
    "            self.__resize(self.size * 2)\n",
    "        for i in range(self.n,index,-1):\n",
    "            self.A[i] = self.A[i-1]\n",
    "        self.A[index] = element\n",
    "        self.n = self.n + 1\n",
    "\n",
    "    def __resize(self, new_capacity):\n",
    "        B = self.__make_array(new_capacity)\n",
    "        self.size = new_capacity\n",
    "        # copy the content of previouse list \n",
    "        for i in range(self.n):\n",
    "            B[i] = self.A[i]\n",
    "        self.A = B\n",
    "\n",
    "    def __make_array(self,capacity):\n",
    "        return (capacity*ctypes.py_object)()\n",
    "\n",
    "\n",
    "\n",
    "    \n",
    "    "
   ]
  },
  {
   "cell_type": "code",
   "execution_count": 28,
   "metadata": {},
   "outputs": [
    {
     "name": "stdout",
     "output_type": "stream",
     "text": [
      "[5,5,5,Hello,6.6,world]\n"
     ]
    }
   ],
   "source": [
    "L = MeraList()\n",
    "L.append(5)\n",
    "L.append(5)\n",
    "L.append(5)\n",
    "L.append(\"Hello\")\n",
    "L.append(6.6)\n",
    "L.append('world')\n",
    "print(L)\n"
   ]
  },
  {
   "cell_type": "code",
   "execution_count": 29,
   "metadata": {},
   "outputs": [
    {
     "name": "stdout",
     "output_type": "stream",
     "text": [
      "6\n",
      "5\n",
      "[5,5,Hello,6.6,world]\n"
     ]
    }
   ],
   "source": [
    "L.remove(5)\n",
    "print(L)"
   ]
  },
  {
   "cell_type": "code",
   "execution_count": null,
   "metadata": {},
   "outputs": [
    {
     "data": {
      "text/plain": [
       "'Element is not found!'"
      ]
     },
     "execution_count": 83,
     "metadata": {},
     "output_type": "execute_result"
    }
   ],
   "source": [
    "L.find(6)"
   ]
  },
  {
   "cell_type": "code",
   "execution_count": null,
   "metadata": {},
   "outputs": [
    {
     "name": "stdout",
     "output_type": "stream",
     "text": [
      "[5,5,100,5,Hello,6.6,world]\n"
     ]
    }
   ],
   "source": [
    "L.insert(2, 100)\n",
    "print(L)"
   ]
  },
  {
   "cell_type": "code",
   "execution_count": null,
   "metadata": {},
   "outputs": [
    {
     "data": {
      "text/plain": [
       "'Element is not found!'"
      ]
     },
     "execution_count": 29,
     "metadata": {},
     "output_type": "execute_result"
    }
   ],
   "source": [
    "L.count(1)"
   ]
  },
  {
   "cell_type": "code",
   "execution_count": null,
   "metadata": {},
   "outputs": [
    {
     "name": "stdout",
     "output_type": "stream",
     "text": [
      "[5,5,100,5,Hello,6.6,world]\n"
     ]
    }
   ],
   "source": [
    "print(L)"
   ]
  },
  {
   "cell_type": "code",
   "execution_count": null,
   "metadata": {},
   "outputs": [],
   "source": [
    "L.reverse()"
   ]
  },
  {
   "cell_type": "code",
   "execution_count": 30,
   "metadata": {},
   "outputs": [
    {
     "name": "stdout",
     "output_type": "stream",
     "text": [
      "[5,5,Hello,6.6,world]\n"
     ]
    }
   ],
   "source": [
    "print(L)"
   ]
  },
  {
   "cell_type": "code",
   "execution_count": null,
   "metadata": {},
   "outputs": [],
   "source": []
  }
 ],
 "metadata": {
  "kernelspec": {
   "display_name": "Python 3",
   "language": "python",
   "name": "python3"
  },
  "language_info": {
   "codemirror_mode": {
    "name": "ipython",
    "version": 3
   },
   "file_extension": ".py",
   "mimetype": "text/x-python",
   "name": "python",
   "nbconvert_exporter": "python",
   "pygments_lexer": "ipython3",
   "version": "3.12.4"
  }
 },
 "nbformat": 4,
 "nbformat_minor": 2
}
