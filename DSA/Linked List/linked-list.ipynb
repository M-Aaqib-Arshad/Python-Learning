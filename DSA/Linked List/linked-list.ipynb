{
 "cells": [
  {
   "cell_type": "markdown",
   "id": "e60d78aa",
   "metadata": {},
   "source": [
    "## Linked List\n",
    "- for reading time complexity is O(n)\n",
    "- perfect for writing and deleting O(1)"
   ]
  },
  {
   "cell_type": "code",
   "execution_count": 2,
   "id": "ab0db905",
   "metadata": {},
   "outputs": [],
   "source": [
    "class Node:\n",
    "    def __init__(self, value):\n",
    "        self.value = value\n",
    "        self.next = None"
   ]
  },
  {
   "cell_type": "code",
   "execution_count": 3,
   "id": "a840e2ca",
   "metadata": {},
   "outputs": [],
   "source": [
    "a = Node(1)\n",
    "b = Node(2)\n",
    "c = Node(3)"
   ]
  },
  {
   "cell_type": "code",
   "execution_count": 4,
   "id": "dfc3fb19",
   "metadata": {},
   "outputs": [],
   "source": [
    "a.next = b\n",
    "b.next = c"
   ]
  },
  {
   "cell_type": "code",
   "execution_count": 5,
   "id": "3abb5fcd",
   "metadata": {},
   "outputs": [
    {
     "name": "stdout",
     "output_type": "stream",
     "text": [
      "<__main__.Node object at 0x000001F84665ADB0>\n"
     ]
    }
   ],
   "source": [
    "print(a.next)"
   ]
  },
  {
   "cell_type": "code",
   "execution_count": 6,
   "id": "9fdc6ec8",
   "metadata": {},
   "outputs": [],
   "source": [
    "class Node:\n",
    "    def __init__(self, value):\n",
    "        self.value = value\n",
    "        self.next = None\n"
   ]
  },
  {
   "cell_type": "code",
   "execution_count": 76,
   "id": "1176cade",
   "metadata": {},
   "outputs": [],
   "source": [
    "class Linkedlist:\n",
    "    def __init__(self):\n",
    "        self.head = None\n",
    "        self.n = 0\n",
    "    \n",
    "    def __str__(self):\n",
    "        result = ''\n",
    "        curr = self.head\n",
    "        while curr != None:\n",
    "            result = result + str(curr.value) + '-->'\n",
    "            curr = curr.next\n",
    "        return result[:-3]\n",
    "    def __len__(self):\n",
    "        return self.n\n",
    "    def is_list_empty(self):\n",
    "        if self.head == None:\n",
    "            return True\n",
    "        else:\n",
    "            return False\n",
    "    def insert_head(self,value):\n",
    "        new_node = Node(value)\n",
    "\n",
    "        # create connection\n",
    "        new_node.next = self.head\n",
    "\n",
    "        # reassign head\n",
    "        self.head = new_node\n",
    "\n",
    "        # increament \n",
    "        self.n = self.n + 1\n",
    "    def append(self, value):\n",
    "        new_node = Node(value)\n",
    "        if self.head == None:\n",
    "            self.head = new_node\n",
    "            self.n = self.n + 1\n",
    "            return \n",
    "        curr = self.head\n",
    "        while curr.next != None:\n",
    "            # print('Apend curr value:', curr.value,'--->',\"curr.next\",curr.next)\n",
    "            curr = curr.next\n",
    "        \n",
    "        # pointing to null or tail\n",
    "        curr.next = new_node\n",
    "        self.n = self.n + 1\n",
    "    def insert_aaa(self,value, target):\n",
    "        new_node = Node(value)\n",
    "        curr = self.head\n",
    "        if self.head == None:\n",
    "            return \"The list is empty\"\n",
    "        while curr.next != None:\n",
    "            if curr.value == target:\n",
    "                break\n",
    "            curr = curr.next\n",
    "        if curr.value == target:\n",
    "            new_node.next = curr.next\n",
    "            curr.next = new_node\n",
    "            self.n +=1\n",
    "        else:\n",
    "            return \"Item not found!\"\n",
    "\n",
    "\n",
    "            \n",
    "    def insert_after(self, value, target):\n",
    "        new_node = Node(value)\n",
    "        curr = self.head\n",
    "        while curr.next != None:\n",
    "            # print('curr value:', curr.value,'--->',\"curr.next\",curr.next)\n",
    "            if curr.value == target:\n",
    "                break\n",
    "            curr = curr.next\n",
    "            \n",
    "        if curr.value == target:\n",
    "            new_node.next = curr.next\n",
    "            curr.next = new_node\n",
    "            self.n = self.n+1\n",
    "        else:\n",
    "            return \"Item not found!\"\n",
    "    def clear(self):\n",
    "        self.head = None\n",
    "        self.n = 0  \n",
    "    def del_head(self):\n",
    "        if self.head == None:\n",
    "            return \"The list is Empty\"\n",
    "        self.head = self.head.next\n",
    "    def remove(self,tar):\n",
    "        if  self.head == None:\n",
    "            return \"This is a empty list\"\n",
    "        if  self.head.value == tar:\n",
    "            return self.del_head()\n",
    "        curr = self.head\n",
    "       \n",
    "        while curr.next != None:\n",
    "            if curr.next.value == tar:\n",
    "                break\n",
    "            curr = curr.next\n",
    "        # if item exist \n",
    "        if curr.next == None:\n",
    "            return \"not found!\"\n",
    "        else:\n",
    "            curr.next = curr.next.next\n",
    "        \n",
    "\n",
    "    def pop(self):\n",
    "        if  self.head == None:\n",
    "            return \"This is a empty list\"\n",
    "        curr = self.head\n",
    "        if curr.next == None:\n",
    "            return self.del_head()\n",
    "\n",
    "        while curr.next.next != None:\n",
    "            curr = curr.next\n",
    "\n",
    "        print(curr.value)\n",
    "        curr.next = None\n",
    "        self.n =  self.n-1\n",
    "\n",
    "    def search(self, target):\n",
    "        if self.head == None:\n",
    "            return \"Item Not Found\"\n",
    "        curr = self.head\n",
    "        index = 0\n",
    "        while curr.next != None:\n",
    "            if curr.value == target:\n",
    "                return index\n",
    "            index+=1\n",
    "            curr = curr.next\n",
    "        return \"Item Not Found\"\n",
    "    def __getitem__(self,index):\n",
    "        curr = self.head\n",
    "        pos = 0\n",
    "        if curr == None:\n",
    "            return \"List is Empty\"\n",
    "        \n",
    "        while curr != None:\n",
    "            if index == pos:\n",
    "                return curr.value\n",
    "            curr = curr.next \n",
    "            pos += 1\n",
    "\n",
    "        return \"IndexError! -->List is out of range\"\n",
    "    def replace_max(self, value):\n",
    "        curr = self.head\n",
    "        max = curr\n",
    "        if curr == None:\n",
    "            return \"List is Empty\"\n",
    "        while curr.next != None:\n",
    "\n",
    "            if curr.value > max.value:\n",
    "                max = curr\n",
    "            curr = curr.next\n",
    "            if curr.value > max.value:\n",
    "                max = curr\n",
    "        max.value = value\n",
    "\n",
    "    def sum_odd_nodes(self):\n",
    "        curr = self.head\n",
    "        index = 0\n",
    "        sum = 0\n",
    "        if curr == None:\n",
    "            return \"List is Empty\"\n",
    "        while True:\n",
    "            if index % 2 ==1:\n",
    "                # print(curr.value)\n",
    "                sum += curr.value\n",
    "            index += 1\n",
    "            # print(curr.value)\n",
    "            if curr.next == None:\n",
    "                break\n",
    "            curr = curr.next\n",
    "            \n",
    "        print(sum)\n",
    "\n",
    "    def reverse_linked_list(self):\n",
    "        if self.is_list_empty():\n",
    "            return \"List is Empty\"\n",
    "        curr = self.head\n",
    "        prev_node = None\n",
    "        # 1 --> 2 --> 3 --> 4\n",
    "        # reverse()\n",
    "        # 4 --> 3 --> 2 --> 1\n",
    "        while True:\n",
    "            next_node = curr.next  # address of 2\n",
    "            curr.next = prev_node  # None\n",
    "            prev_node = curr       # address of 1\n",
    "            curr = next_node       # address of 2 \n",
    "            if next_node == None:\n",
    "                break\n",
    "        self.head = prev_node\n",
    "    def change_sent(self):\n",
    "        curr = self.head\n",
    "        while curr != None:\n",
    "            if curr.value == '*' or curr.value == '/':\n",
    "                print(curr.next.value)\n",
    "                curr.value = \" \"\n",
    "                if curr.next.value == '/' or curr.next.value == '*':\n",
    "                    curr.next.next.value = curr.next.next.value.upper()\n",
    "                    print(curr.next.next.value)\n",
    "                    curr.next = curr.next.next\n",
    "            curr = curr.next\n",
    "\n",
    "             \n",
    "            \n",
    "\n",
    "\n"
   ]
  },
  {
   "cell_type": "code",
   "execution_count": 8,
   "id": "06c8249e",
   "metadata": {},
   "outputs": [],
   "source": [
    "L = Linkedlist()\n",
    "L.insert_head(1)\n",
    "L.insert_after(2,1)\n",
    "L.insert_after(3,2)\n",
    "L.insert_after(4,3)"
   ]
  },
  {
   "cell_type": "code",
   "execution_count": 9,
   "id": "7ace1397",
   "metadata": {},
   "outputs": [
    {
     "name": "stdout",
     "output_type": "stream",
     "text": [
      "1-->2-->3-->4\n"
     ]
    }
   ],
   "source": [
    "print(L)"
   ]
  },
  {
   "cell_type": "code",
   "execution_count": 10,
   "id": "d3c580ad",
   "metadata": {},
   "outputs": [],
   "source": [
    "L.reverse_linked_list()"
   ]
  },
  {
   "cell_type": "markdown",
   "id": "20dacb37",
   "metadata": {},
   "source": [
    "## Problems and Questions"
   ]
  },
  {
   "cell_type": "code",
   "execution_count": 77,
   "id": "351de256",
   "metadata": {},
   "outputs": [],
   "source": [
    "word_list = Linkedlist()\n"
   ]
  },
  {
   "cell_type": "code",
   "execution_count": 78,
   "id": "bace0860",
   "metadata": {},
   "outputs": [],
   "source": [
    "word_list.append('T')\n",
    "word_list.append('h')\n",
    "word_list.append('e')\n",
    "word_list.append('/')\n",
    "word_list.append('*')\n",
    "word_list.append('s')\n",
    "word_list.append('k')\n",
    "word_list.append('y')\n",
    "word_list.append('*')\n",
    "word_list.append('i')\n",
    "word_list.append('s')\n",
    "word_list.append('/')\n",
    "word_list.append('/')\n",
    "word_list.append('b')\n",
    "word_list.append('l')\n",
    "word_list.append('u')\n",
    "word_list.append('e')"
   ]
  },
  {
   "cell_type": "code",
   "execution_count": 79,
   "id": "a2163053",
   "metadata": {},
   "outputs": [
    {
     "name": "stdout",
     "output_type": "stream",
     "text": [
      "T-->h-->e-->/-->*-->s-->k-->y-->*-->i-->s-->/-->/-->b-->l-->u-->e\n"
     ]
    }
   ],
   "source": [
    "print(word_list)"
   ]
  },
  {
   "cell_type": "code",
   "execution_count": 80,
   "id": "2e50a7e8",
   "metadata": {},
   "outputs": [
    {
     "name": "stdout",
     "output_type": "stream",
     "text": [
      "*\n",
      "S\n",
      "i\n",
      "/\n",
      "B\n"
     ]
    }
   ],
   "source": [
    "word_list.change_sent()"
   ]
  },
  {
   "cell_type": "code",
   "execution_count": 81,
   "id": "142f36fe",
   "metadata": {},
   "outputs": [
    {
     "name": "stdout",
     "output_type": "stream",
     "text": [
      "T-->h-->e--> -->S-->k-->y--> -->i-->s--> -->B-->l-->u-->e\n"
     ]
    }
   ],
   "source": [
    "print(word_list)"
   ]
  },
  {
   "cell_type": "code",
   "execution_count": null,
   "id": "9d516f5e",
   "metadata": {},
   "outputs": [],
   "source": []
  }
 ],
 "metadata": {
  "kernelspec": {
   "display_name": "Python 3",
   "language": "python",
   "name": "python3"
  },
  "language_info": {
   "codemirror_mode": {
    "name": "ipython",
    "version": 3
   },
   "file_extension": ".py",
   "mimetype": "text/x-python",
   "name": "python",
   "nbconvert_exporter": "python",
   "pygments_lexer": "ipython3",
   "version": "3.12.4"
  }
 },
 "nbformat": 4,
 "nbformat_minor": 5
}
