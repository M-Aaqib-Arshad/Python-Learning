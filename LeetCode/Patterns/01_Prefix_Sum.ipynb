{
 "cells": [
  {
   "cell_type": "markdown",
   "id": "5b4bd7c0",
   "metadata": {},
   "source": [
    "### 303. Range Sum Query - Immutable\n",
    "#### Easy"
   ]
  },
  {
   "cell_type": "code",
   "execution_count": null,
   "id": "2bcc6425",
   "metadata": {},
   "outputs": [],
   "source": [
    "class NumArray:\n",
    "\n",
    "    def __init__(self, nums):\n",
    "        pre_sum = [nums[0]]\n",
    "        for i in range(1,len(nums)-2):\n",
    "            pre_sum[i] = nums[i-1] + nums[i]\n",
    "        print(pre_sum)\n",
    "            \n",
    "\n",
    "    def sumRange(self, left: int, right: int):\n",
    "        pass\n",
    "nums = [-2, 0, 3, -5, 2, -1]\n",
    "obj = NumArray(nums)\n",
    "param_1 = obj.sumRange(left,right)\n",
    "\n",
    "# Your NumArray object will be instantiated and called as such:\n",
    "# obj = NumArray(nums)\n",
    "# param_1 = obj.sumRange(left,right)"
   ]
  }
 ],
 "metadata": {
  "language_info": {
   "name": "python"
  }
 },
 "nbformat": 4,
 "nbformat_minor": 5
}
