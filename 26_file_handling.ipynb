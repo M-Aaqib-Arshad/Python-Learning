{
 "cells": [
  {
   "cell_type": "code",
   "execution_count": 1,
   "id": "579b2032",
   "metadata": {},
   "outputs": [
    {
     "name": "stdout",
     "output_type": "stream",
     "text": [
      "hello world\n"
     ]
    }
   ],
   "source": [
    "print('hello world')"
   ]
  },
  {
   "cell_type": "code",
   "execution_count": 7,
   "id": "fe7b3167",
   "metadata": {},
   "outputs": [
    {
     "name": "stdout",
     "output_type": "stream",
     "text": [
      "Python is usually used for ML, DL and Data Science \n",
      "Python is very simple and easy to learn. \n",
      "Here, I have approximately all type work that happens in python.\n"
     ]
    }
   ],
   "source": [
    "with open('text.txt', 'r') as file:\n",
    "    content = file.read()\n",
    "    print(content)"
   ]
  },
  {
   "cell_type": "markdown",
   "id": "8031c0a4",
   "metadata": {},
   "source": [
    "#### Read a file line by line"
   ]
  },
  {
   "cell_type": "code",
   "execution_count": 17,
   "id": "992d79f1",
   "metadata": {},
   "outputs": [
    {
     "name": "stdout",
     "output_type": "stream",
     "text": [
      "Hello there we are learning python.\n",
      "Python is a popular language. Most of the developers are using python to build Software,Websites and Mobile Apps\n",
      "Python is usually used for ML, DL and Data Science\n",
      "Python is very simple and easy to learn.\n",
      "Here, I have approximately all type work that happens in python.Work as:\n",
      "Data Types\n",
      "Operators\n",
      "Functions\n"
     ]
    }
   ],
   "source": [
    "with open('text.txt', 'r') as file:\n",
    "    for line in file:\n",
    "        print(line.strip())  ## strip removes the newline character"
   ]
  },
  {
   "cell_type": "code",
   "execution_count": null,
   "id": "9ce2e75c",
   "metadata": {},
   "outputs": [],
   "source": [
    "## It will overwrite the all content.\n",
    "with open('text.txt','w') as file:\n",
    "    file.write('Python is usually used for ML, DL and Data Science \\n')\n",
    "    file.write('Python is very simple and easy to learn. \\n')"
   ]
  },
  {
   "cell_type": "code",
   "execution_count": 6,
   "id": "d672f772",
   "metadata": {},
   "outputs": [],
   "source": [
    "## it append the content at end of previous content\n",
    "with open('text.txt','a') as file:\n",
    "    file.write('Here, I have approximately all type work that happens in python.')\n",
    "    "
   ]
  },
  {
   "cell_type": "code",
   "execution_count": 9,
   "id": "bd1df6cd",
   "metadata": {},
   "outputs": [],
   "source": [
    "# writing a list of multiple lines\n",
    "lines = ['Work as:\\n', 'Data Types\\n', 'Operators\\n','Functions']"
   ]
  },
  {
   "cell_type": "code",
   "execution_count": 10,
   "id": "d8850275",
   "metadata": {},
   "outputs": [],
   "source": [
    "with open('text.txt','a') as file:\n",
    "    file.writelines(lines)\n",
    "    "
   ]
  },
  {
   "cell_type": "markdown",
   "id": "93ab4a1e",
   "metadata": {},
   "source": [
    "### Binary files"
   ]
  },
  {
   "cell_type": "code",
   "execution_count": 12,
   "id": "bfea2a2f",
   "metadata": {},
   "outputs": [],
   "source": [
    "data = b'\\x00\\x01\\x02\\x03\\x04'\n",
    "with open('example.bin', 'wb') as file:\n",
    "    file.write(data)"
   ]
  },
  {
   "cell_type": "code",
   "execution_count": 15,
   "id": "768f58c3",
   "metadata": {},
   "outputs": [
    {
     "name": "stdout",
     "output_type": "stream",
     "text": [
      "b'\\x00\\x01\\x02\\x03\\x04'\n"
     ]
    }
   ],
   "source": [
    "with open('example.bin', 'rb') as file:\n",
    "    cont = file.read()\n",
    "    print(cont)"
   ]
  },
  {
   "cell_type": "code",
   "execution_count": 16,
   "id": "66288fda",
   "metadata": {},
   "outputs": [],
   "source": [
    "with open('text.txt', 'r') as file:\n",
    "    content = file.read()\n",
    "\n",
    "with open('text.txt','w') as dest_file:\n",
    "    dest_file.write(content)"
   ]
  },
  {
   "cell_type": "code",
   "execution_count": 19,
   "id": "6490de44",
   "metadata": {},
   "outputs": [
    {
     "name": "stdout",
     "output_type": "stream",
     "text": [
      "Lines: 8, words: 58, characters: 346\n"
     ]
    }
   ],
   "source": [
    "def count_text_file(file_path):\n",
    "    with open(file_path,'r') as file:\n",
    "        lines = file.readlines()\n",
    "        line_count = len(lines)\n",
    "        word_count = sum(len(line.split()) for line in lines)\n",
    "        char_count = sum(len(line) for line in lines)\n",
    "    return line_count, word_count, char_count\n",
    "\n",
    "file_path = 'text.txt'\n",
    "lines, words, characters = count_text_file(file_path)\n",
    "print(f'Lines: {lines}, words: {words}, characters: {characters}')"
   ]
  },
  {
   "cell_type": "markdown",
   "id": "ddbf9109",
   "metadata": {},
   "source": [
    "W+ mode is python is used to reading and writing the file\n",
    "if file doesn't exist i will create the file then write it \n",
    "Or file exists it will overwrite the file"
   ]
  },
  {
   "cell_type": "code",
   "execution_count": null,
   "id": "d87211eb",
   "metadata": {},
   "outputs": [
    {
     "name": "stdout",
     "output_type": "stream",
     "text": [
      "\n"
     ]
    }
   ],
   "source": [
    "# writing and then reading a file\n",
    "with open('example.txt','w+') as file:\n",
    "    file.write(\"Hello world! \\n\")\n",
    "    file.write(\"This Is a new Line! \\n\")\n",
    "\n",
    "## Now cursor is pointing the second line, so now we move the cursor to begining, Otherwise it will show nothing.\n",
    "\n",
    "    file.seek(0)  \n",
    "    content = file.read()\n",
    "    print(content)\n"
   ]
  },
  {
   "cell_type": "code",
   "execution_count": null,
   "id": "e9c849a0",
   "metadata": {},
   "outputs": [],
   "source": []
  }
 ],
 "metadata": {
  "kernelspec": {
   "display_name": "base",
   "language": "python",
   "name": "python3"
  },
  "language_info": {
   "codemirror_mode": {
    "name": "ipython",
    "version": 3
   },
   "file_extension": ".py",
   "mimetype": "text/x-python",
   "name": "python",
   "nbconvert_exporter": "python",
   "pygments_lexer": "ipython3",
   "version": "3.12.7"
  }
 },
 "nbformat": 4,
 "nbformat_minor": 5
}
